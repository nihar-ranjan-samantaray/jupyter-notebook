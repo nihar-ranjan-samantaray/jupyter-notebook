{
 "cells": [
  {
   "cell_type": "code",
   "execution_count": 1,
   "id": "973a03fd",
   "metadata": {},
   "outputs": [],
   "source": [
    "import datetime"
   ]
  },
  {
   "cell_type": "code",
   "execution_count": 2,
   "id": "cffcd6ec",
   "metadata": {},
   "outputs": [],
   "source": [
    "from datetime import datetime as dt"
   ]
  },
  {
   "cell_type": "code",
   "execution_count": 3,
   "id": "d873a0e5",
   "metadata": {},
   "outputs": [],
   "source": [
    "x = \"01-11-2000\""
   ]
  },
  {
   "cell_type": "code",
   "execution_count": 4,
   "id": "86ae1255",
   "metadata": {},
   "outputs": [],
   "source": [
    "mm = x[0:2]"
   ]
  },
  {
   "cell_type": "code",
   "execution_count": 5,
   "id": "3dfe4cc9",
   "metadata": {},
   "outputs": [
    {
     "data": {
      "text/plain": [
       "'01'"
      ]
     },
     "execution_count": 5,
     "metadata": {},
     "output_type": "execute_result"
    }
   ],
   "source": [
    "mm"
   ]
  },
  {
   "cell_type": "code",
   "execution_count": 6,
   "id": "8939fdf8",
   "metadata": {},
   "outputs": [],
   "source": [
    "dd = x[3:5]"
   ]
  },
  {
   "cell_type": "code",
   "execution_count": 7,
   "id": "3a15481f",
   "metadata": {},
   "outputs": [
    {
     "data": {
      "text/plain": [
       "'11'"
      ]
     },
     "execution_count": 7,
     "metadata": {},
     "output_type": "execute_result"
    }
   ],
   "source": [
    "dd"
   ]
  },
  {
   "cell_type": "code",
   "execution_count": 8,
   "id": "8a740662",
   "metadata": {},
   "outputs": [],
   "source": [
    "yy = x[6:10]"
   ]
  },
  {
   "cell_type": "code",
   "execution_count": 9,
   "id": "a3d87a30",
   "metadata": {},
   "outputs": [
    {
     "data": {
      "text/plain": [
       "'2000'"
      ]
     },
     "execution_count": 9,
     "metadata": {},
     "output_type": "execute_result"
    }
   ],
   "source": [
    "yy"
   ]
  },
  {
   "cell_type": "code",
   "execution_count": 13,
   "id": "bf2b11c2",
   "metadata": {},
   "outputs": [],
   "source": [
    "dt_obj = dt(int(yy),int(mm),int(dd))"
   ]
  },
  {
   "cell_type": "code",
   "execution_count": 14,
   "id": "60618330",
   "metadata": {},
   "outputs": [
    {
     "data": {
      "text/plain": [
       "datetime.datetime(2000, 1, 11, 0, 0)"
      ]
     },
     "execution_count": 14,
     "metadata": {},
     "output_type": "execute_result"
    }
   ],
   "source": [
    "dt_obj"
   ]
  },
  {
   "cell_type": "code",
   "execution_count": 15,
   "id": "a2b7e246",
   "metadata": {},
   "outputs": [
    {
     "data": {
      "text/plain": [
       "2000"
      ]
     },
     "execution_count": 15,
     "metadata": {},
     "output_type": "execute_result"
    }
   ],
   "source": [
    "dt_obj.year"
   ]
  },
  {
   "cell_type": "code",
   "execution_count": 16,
   "id": "c87c1cdf",
   "metadata": {},
   "outputs": [
    {
     "data": {
      "text/plain": [
       "1"
      ]
     },
     "execution_count": 16,
     "metadata": {},
     "output_type": "execute_result"
    }
   ],
   "source": [
    "dt_obj.month"
   ]
  },
  {
   "cell_type": "code",
   "execution_count": 17,
   "id": "002b4c1d",
   "metadata": {},
   "outputs": [
    {
     "data": {
      "text/plain": [
       "11"
      ]
     },
     "execution_count": 17,
     "metadata": {},
     "output_type": "execute_result"
    }
   ],
   "source": [
    "dt_obj.day"
   ]
  },
  {
   "cell_type": "code",
   "execution_count": null,
   "id": "1419c574",
   "metadata": {},
   "outputs": [],
   "source": []
  }
 ],
 "metadata": {
  "kernelspec": {
   "display_name": "Python 3 (ipykernel)",
   "language": "python",
   "name": "python3"
  },
  "language_info": {
   "codemirror_mode": {
    "name": "ipython",
    "version": 3
   },
   "file_extension": ".py",
   "mimetype": "text/x-python",
   "name": "python",
   "nbconvert_exporter": "python",
   "pygments_lexer": "ipython3",
   "version": "3.7.4"
  }
 },
 "nbformat": 4,
 "nbformat_minor": 5
}
