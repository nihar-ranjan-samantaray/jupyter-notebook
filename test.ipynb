{
 "cells": [
  {
   "cell_type": "code",
   "execution_count": 2,
   "metadata": {},
   "outputs": [],
   "source": [
    "import json"
   ]
  },
  {
   "cell_type": "code",
   "execution_count": 3,
   "metadata": {},
   "outputs": [],
   "source": [
    "import pandas as pd"
   ]
  },
  {
   "cell_type": "code",
   "execution_count": 39,
   "metadata": {},
   "outputs": [],
   "source": [
    "data = \"\"\"\n",
    "{\n",
    "    \"quiz\": {\n",
    "        \"sport\": {\n",
    "            \"q1\": {\n",
    "                \"question\": \"Which one is correct team name in NBA?\",\n",
    "                \"options\": [\n",
    "                    \"New York Bulls\",\n",
    "                    \"Los Angeles Kings\",\n",
    "                    \"Golden State Warriros\",\n",
    "                    \"Huston Rocket\"\n",
    "                ],\n",
    "                \"answer\": \"Huston Rocket\"\n",
    "            }\n",
    "        },\n",
    "        \"maths\": {\n",
    "            \"q1\": {\n",
    "                \"question\": \"5 + 7 = ?\",\n",
    "                \"options\": [\n",
    "                    \"10\",\n",
    "                    \"11\",\n",
    "                    \"12\",\n",
    "                    \"13\"\n",
    "                ],\n",
    "                \"answer\": \"12\"\n",
    "            },\n",
    "            \"q2\": {\n",
    "                \"question\": \"12 - 8 = ?\",\n",
    "                \"options\": [\n",
    "                    \"1\",\n",
    "                    \"2\",\n",
    "                    \"3\",\n",
    "                    \"4\"\n",
    "                ],\n",
    "                \"answer\": \"4\"\n",
    "            }\n",
    "        }\n",
    "    }\n",
    "}\n",
    "\"\"\""
   ]
  },
  {
   "cell_type": "code",
   "execution_count": 40,
   "metadata": {},
   "outputs": [],
   "source": [
    "data = json.loads(data)"
   ]
  },
  {
   "cell_type": "code",
   "execution_count": 45,
   "metadata": {},
   "outputs": [],
   "source": [
    "df1 = pd.json_normalize(data['quiz']['sport'])"
   ]
  },
  {
   "cell_type": "code",
   "execution_count": 46,
   "metadata": {},
   "outputs": [
    {
     "name": "stdout",
     "output_type": "stream",
     "text": [
      "                              q1.question  \\\n",
      "0  Which one is correct team name in NBA?   \n",
      "\n",
      "                                          q1.options      q1.answer  \n",
      "0  [New York Bulls, Los Angeles Kings, Golden Sta...  Huston Rocket  \n"
     ]
    }
   ],
   "source": [
    "print(df1)"
   ]
  },
  {
   "cell_type": "code",
   "execution_count": 27,
   "metadata": {},
   "outputs": [
    {
     "name": "stdout",
     "output_type": "stream",
     "text": [
      "Empty DataFrame\n",
      "Columns: []\n",
      "Index: []\n"
     ]
    }
   ],
   "source": [
    "df1Final = pd.DataFrame()\n",
    "df2Final = pd.DataFrame()\n",
    "dfFinal = pd.DataFrame()\n",
    "print(df1Final)"
   ]
  },
  {
   "cell_type": "code",
   "execution_count": 31,
   "metadata": {},
   "outputs": [],
   "source": [
    "for i in range(0,5):\n",
    "    df1 = pd.json_normalize(data['users'])\n",
    "#     for j in range(0,4):\n",
    "#         df2 = pd.json_normalize(data['bills'][i]['tiers'][j])\n",
    "#         df2Final = pd.concat([df2Final, df2])\n",
    "    df1Final = pd.concat([df1Final, df1])"
   ]
  },
  {
   "cell_type": "code",
   "execution_count": 32,
   "metadata": {},
   "outputs": [
    {
     "name": "stdout",
     "output_type": "stream",
     "text": [
      "   userId firstName lastName phoneNumber                        emailAddress\n",
      "0       1     Krish      Lee      123456     krish.lee@learningcontainer.com\n",
      "1       2     racks   jacson      123456  racks.jacson@learningcontainer.com\n",
      "2       3    denial    roast    33333333  denial.roast@learningcontainer.com\n",
      "3       4     devid      neo   222222222     devid.neo@learningcontainer.com\n",
      "4       5      jone      mac   111111111      jone.mac@learningcontainer.com\n",
      "0       1     Krish      Lee      123456     krish.lee@learningcontainer.com\n",
      "1       2     racks   jacson      123456  racks.jacson@learningcontainer.com\n",
      "2       3    denial    roast    33333333  denial.roast@learningcontainer.com\n",
      "3       4     devid      neo   222222222     devid.neo@learningcontainer.com\n",
      "4       5      jone      mac   111111111      jone.mac@learningcontainer.com\n",
      "0       1     Krish      Lee      123456     krish.lee@learningcontainer.com\n",
      "1       2     racks   jacson      123456  racks.jacson@learningcontainer.com\n",
      "2       3    denial    roast    33333333  denial.roast@learningcontainer.com\n",
      "3       4     devid      neo   222222222     devid.neo@learningcontainer.com\n",
      "4       5      jone      mac   111111111      jone.mac@learningcontainer.com\n",
      "0       1     Krish      Lee      123456     krish.lee@learningcontainer.com\n",
      "1       2     racks   jacson      123456  racks.jacson@learningcontainer.com\n",
      "2       3    denial    roast    33333333  denial.roast@learningcontainer.com\n",
      "3       4     devid      neo   222222222     devid.neo@learningcontainer.com\n",
      "4       5      jone      mac   111111111      jone.mac@learningcontainer.com\n",
      "0       1     Krish      Lee      123456     krish.lee@learningcontainer.com\n",
      "1       2     racks   jacson      123456  racks.jacson@learningcontainer.com\n",
      "2       3    denial    roast    33333333  denial.roast@learningcontainer.com\n",
      "3       4     devid      neo   222222222     devid.neo@learningcontainer.com\n",
      "4       5      jone      mac   111111111      jone.mac@learningcontainer.com\n",
      "0       1     Krish      Lee      123456     krish.lee@learningcontainer.com\n",
      "1       2     racks   jacson      123456  racks.jacson@learningcontainer.com\n",
      "2       3    denial    roast    33333333  denial.roast@learningcontainer.com\n",
      "3       4     devid      neo   222222222     devid.neo@learningcontainer.com\n",
      "4       5      jone      mac   111111111      jone.mac@learningcontainer.com\n"
     ]
    }
   ],
   "source": [
    "print(df1Final)"
   ]
  }
 ],
 "metadata": {
  "kernelspec": {
   "display_name": "Python 3",
   "language": "python",
   "name": "python3"
  },
  "language_info": {
   "codemirror_mode": {
    "name": "ipython",
    "version": 3
   },
   "file_extension": ".py",
   "mimetype": "text/x-python",
   "name": "python",
   "nbconvert_exporter": "python",
   "pygments_lexer": "ipython3",
   "version": "3.7.4"
  }
 },
 "nbformat": 4,
 "nbformat_minor": 4
}
