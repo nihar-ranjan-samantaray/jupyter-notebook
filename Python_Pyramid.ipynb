{
 "cells": [
  {
   "cell_type": "markdown",
   "id": "408f6b57",
   "metadata": {},
   "source": [
    "# Pyramid in Python by Nihar Ranjan Samantaray"
   ]
  },
  {
   "cell_type": "markdown",
   "id": "6f26dccf",
   "metadata": {},
   "source": [
    "### Pyramid 1"
   ]
  },
  {
   "cell_type": "code",
   "execution_count": 2,
   "id": "483d58ae",
   "metadata": {},
   "outputs": [
    {
     "name": "stdout",
     "output_type": "stream",
     "text": [
      "Enter Number of Rows: 5\n",
      "*\n",
      "**\n",
      "***\n",
      "****\n",
      "*****\n"
     ]
    }
   ],
   "source": [
    "row = int(input(\"Enter Number of Rows: \"))\n",
    "for i in range(1,row+1):\n",
    "    print(\"*\"*i)"
   ]
  },
  {
   "cell_type": "markdown",
   "id": "40e6e102",
   "metadata": {},
   "source": [
    "### Pyramid 2"
   ]
  },
  {
   "cell_type": "code",
   "execution_count": 13,
   "id": "b9fbc4fe",
   "metadata": {},
   "outputs": [
    {
     "name": "stdout",
     "output_type": "stream",
     "text": [
      "Enter Number of Rows: 5\n",
      "    *\n",
      "   **\n",
      "  ***\n",
      " ****\n",
      "*****\n"
     ]
    }
   ],
   "source": [
    "row = int(input(\"Enter Number of Rows: \"))\n",
    "for i in range(1,row+1):\n",
    "    for j in range(row-i,0,-1):\n",
    "        print(\" \",end=\"\")\n",
    "    print(\"*\"*i)"
   ]
  },
  {
   "cell_type": "markdown",
   "id": "a34f29aa",
   "metadata": {},
   "source": [
    "### Pyramid 3"
   ]
  },
  {
   "cell_type": "code",
   "execution_count": 15,
   "id": "5fdc3adc",
   "metadata": {},
   "outputs": [
    {
     "name": "stdout",
     "output_type": "stream",
     "text": [
      "Enter Number of Rows: 5\n",
      "*****\n",
      "****\n",
      "***\n",
      "**\n",
      "*\n"
     ]
    }
   ],
   "source": [
    "row = int(input(\"Enter Number of Rows: \"))\n",
    "for i in range(row,0,-1):\n",
    "    print(\"*\"*i)"
   ]
  },
  {
   "cell_type": "markdown",
   "id": "d6101d9a",
   "metadata": {},
   "source": [
    "### Pyramid 4"
   ]
  },
  {
   "cell_type": "code",
   "execution_count": 16,
   "id": "389bb1fb",
   "metadata": {},
   "outputs": [
    {
     "name": "stdout",
     "output_type": "stream",
     "text": [
      "Enter Number of Rows: 5\n",
      "*****\n",
      " ****\n",
      "  ***\n",
      "   **\n",
      "    *\n"
     ]
    }
   ],
   "source": [
    "row = int(input(\"Enter Number of Rows: \"))\n",
    "for i in range(row,0,-1):\n",
    "    for j in range(1,row-i+1):\n",
    "        print(\" \",end=\"\")\n",
    "    print(\"*\"*i)"
   ]
  },
  {
   "cell_type": "markdown",
   "id": "1d81fd3f",
   "metadata": {},
   "source": [
    "### Pyramid 5"
   ]
  },
  {
   "cell_type": "code",
   "execution_count": 20,
   "id": "f097252b",
   "metadata": {},
   "outputs": [
    {
     "name": "stdout",
     "output_type": "stream",
     "text": [
      "Enter Number of Rows: 5\n",
      "    *\n",
      "   ***\n",
      "  *****\n",
      " *******\n",
      "*********\n"
     ]
    }
   ],
   "source": [
    "row = int(input(\"Enter Number of Rows: \"))\n",
    "for i in range(1,row+1):\n",
    "    k = 0\n",
    "    for j in range(row - i,0,-1):\n",
    "        print(\" \",end=\"\")\n",
    "    while k != (2*i - 1):\n",
    "        print(\"*\",end=\"\")\n",
    "        k += 1\n",
    "    print()"
   ]
  },
  {
   "cell_type": "markdown",
   "id": "34e525f5",
   "metadata": {},
   "source": [
    "### Pyramid 6"
   ]
  },
  {
   "cell_type": "code",
   "execution_count": 2,
   "id": "c8cc1d9c",
   "metadata": {},
   "outputs": [
    {
     "name": "stdout",
     "output_type": "stream",
     "text": [
      "Enter Number of Rows: 5\n",
      "*********\n",
      " *******\n",
      "  *****\n",
      "   ***\n",
      "    *\n"
     ]
    }
   ],
   "source": [
    "row = int(input(\"Enter Number of Rows: \"))\n",
    "for i in range(row,0,-1):\n",
    "    k = 0\n",
    "    for j in range(0,row-i):\n",
    "        print(\" \",end=\"\")\n",
    "    while k != (i*2 - 1):\n",
    "        print(\"*\",end=\"\")\n",
    "        k += 1\n",
    "    print()"
   ]
  },
  {
   "cell_type": "markdown",
   "id": "6285c874",
   "metadata": {},
   "source": [
    "### Pyramid 7"
   ]
  },
  {
   "cell_type": "code",
   "execution_count": 7,
   "id": "5ec88bce",
   "metadata": {},
   "outputs": [
    {
     "name": "stdout",
     "output_type": "stream",
     "text": [
      "Enter Number of Rows: 5\n",
      "1\n",
      "22\n",
      "333\n",
      "4444\n",
      "55555\n"
     ]
    }
   ],
   "source": [
    "row = int(input(\"Enter Number of Rows: \"))\n",
    "for i in range(1,row+1):\n",
    "    for j in range(1,i+1):\n",
    "        if i == j:\n",
    "            print(f\"{i}\"*j)"
   ]
  },
  {
   "cell_type": "markdown",
   "id": "e16a7d3b",
   "metadata": {},
   "source": [
    "### Pyramid 8"
   ]
  },
  {
   "cell_type": "code",
   "execution_count": 8,
   "id": "af605469",
   "metadata": {},
   "outputs": [
    {
     "name": "stdout",
     "output_type": "stream",
     "text": [
      "Enter Number of Rows: 5\n",
      "101010101\n",
      " 1010101\n",
      "  10101\n",
      "   101\n",
      "    1\n"
     ]
    }
   ],
   "source": [
    "row = int(input(\"Enter Number of Rows: \"))\n",
    "for i in range(row,0,-1):\n",
    "    for j in range(0,row-i):\n",
    "        print(\" \",end = \"\")\n",
    "    for k in range(1,2*i):\n",
    "        print(k%2, end=\"\")\n",
    "    print()"
   ]
  },
  {
   "cell_type": "code",
   "execution_count": null,
   "id": "27b5d81f",
   "metadata": {},
   "outputs": [],
   "source": []
  }
 ],
 "metadata": {
  "kernelspec": {
   "display_name": "Python 3 (ipykernel)",
   "language": "python",
   "name": "python3"
  },
  "language_info": {
   "codemirror_mode": {
    "name": "ipython",
    "version": 3
   },
   "file_extension": ".py",
   "mimetype": "text/x-python",
   "name": "python",
   "nbconvert_exporter": "python",
   "pygments_lexer": "ipython3",
   "version": "3.8.5"
  }
 },
 "nbformat": 4,
 "nbformat_minor": 5
}
