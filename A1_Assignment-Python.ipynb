{
 "cells": [
  {
   "cell_type": "markdown",
   "metadata": {},
   "source": [
    "<a href='https://www.hexnbit.com/'> <img src='https://www.hexnbit.com/wp-content/uploads/2019/09/hexnbit_final_66px.png'/> </a>"
   ]
  },
  {
   "cell_type": "markdown",
   "metadata": {},
   "source": [
    "# A1_Assignment"
   ]
  },
  {
   "cell_type": "markdown",
   "metadata": {},
   "source": [
    "Mentioned below are the tasks, the solution for each tasks has to be appended by inserting a new cell below the task,\n",
    "along with the following description:-\n",
    "1. Why the method was used (if applicable)\n",
    "2. Explanation of logic"
   ]
  },
  {
   "cell_type": "markdown",
   "metadata": {},
   "source": [
    "### Task1\n",
    "- Raise 2 to the power 10"
   ]
  },
  {
   "cell_type": "code",
   "execution_count": 13,
   "metadata": {},
   "outputs": [
    {
     "data": {
      "text/plain": [
       "1024"
      ]
     },
     "execution_count": 13,
     "metadata": {},
     "output_type": "execute_result"
    }
   ],
   "source": [
    "2 ** 10"
   ]
  },
  {
   "cell_type": "markdown",
   "metadata": {},
   "source": [
    "### Task2\n",
    "- From the given list, starting from Japan, print alternate elements\n",
    "- From the given list, print element at indexes 1,4,5,8 (**Hint**: Use for loop)"
   ]
  },
  {
   "cell_type": "code",
   "execution_count": 14,
   "metadata": {},
   "outputs": [
    {
     "name": "stdout",
     "output_type": "stream",
     "text": [
      "Printing Alternate Elements\n",
      "Japan\n",
      "China\n",
      "Africa\n",
      "France\n",
      "Germany\n"
     ]
    }
   ],
   "source": [
    "# Task 2\n",
    "list1=[\"India\", \"Japan\",\"Singapore\",\"China\",\"Australia\",\"Africa\",\"Dubai\",\"France\",\"Italy\",\"Germany\"]\n",
    "print(\"Printing Alternate Elements\")\n",
    "for i in list1[1::2]:\n",
    "    print(i)\n"
   ]
  },
  {
   "cell_type": "code",
   "execution_count": 15,
   "metadata": {},
   "outputs": [
    {
     "name": "stdout",
     "output_type": "stream",
     "text": [
      "Printing Element at index 1,4,5,8\n",
      "Japan\n",
      "Australia\n",
      "Africa\n",
      "Italy\n"
     ]
    }
   ],
   "source": [
    "    \n",
    "print(\"Printing Element at index 1,4,5,8\")\n",
    "for i in range(0,len(list1)):\n",
    "    if i ==1:\n",
    "        print(list1[i])\n",
    "    if i ==4:\n",
    "        print(list1[i])    \n",
    "    if i ==5:\n",
    "        print(list1[i])    \n",
    "    if i ==8:\n",
    "        print(list1[i])  \n",
    "        "
   ]
  },
  {
   "cell_type": "markdown",
   "metadata": {},
   "source": [
    "### Task 3\n",
    "- Generate integer between (100 to 200) using while loop.\n",
    "- if i want number till 155"
   ]
  },
  {
   "cell_type": "code",
   "execution_count": 16,
   "metadata": {},
   "outputs": [
    {
     "name": "stdout",
     "output_type": "stream",
     "text": [
      "Printing number 100 to 200\n",
      "100\n",
      "101\n",
      "102\n",
      "103\n",
      "104\n",
      "105\n",
      "106\n",
      "107\n",
      "108\n",
      "109\n",
      "110\n",
      "111\n",
      "112\n",
      "113\n",
      "114\n",
      "115\n",
      "116\n",
      "117\n",
      "118\n",
      "119\n",
      "120\n",
      "121\n",
      "122\n",
      "123\n",
      "124\n",
      "125\n",
      "126\n",
      "127\n",
      "128\n",
      "129\n",
      "130\n",
      "131\n",
      "132\n",
      "133\n",
      "134\n",
      "135\n",
      "136\n",
      "137\n",
      "138\n",
      "139\n",
      "140\n",
      "141\n",
      "142\n",
      "143\n",
      "144\n",
      "145\n",
      "146\n",
      "147\n",
      "148\n",
      "149\n",
      "150\n",
      "151\n",
      "152\n",
      "153\n",
      "154\n",
      "155\n",
      "156\n",
      "157\n",
      "158\n",
      "159\n",
      "160\n",
      "161\n",
      "162\n",
      "163\n",
      "164\n",
      "165\n",
      "166\n",
      "167\n",
      "168\n",
      "169\n",
      "170\n",
      "171\n",
      "172\n",
      "173\n",
      "174\n",
      "175\n",
      "176\n",
      "177\n",
      "178\n",
      "179\n",
      "180\n",
      "181\n",
      "182\n",
      "183\n",
      "184\n",
      "185\n",
      "186\n",
      "187\n",
      "188\n",
      "189\n",
      "190\n",
      "191\n",
      "192\n",
      "193\n",
      "194\n",
      "195\n",
      "196\n",
      "197\n",
      "198\n",
      "199\n",
      "200\n"
     ]
    }
   ],
   "source": [
    "n = 100\n",
    "print(\"Printing number 100 to 200\")\n",
    "while n <= 200:\n",
    "    print(n)\n",
    "    n += 1\n"
   ]
  },
  {
   "cell_type": "code",
   "execution_count": 17,
   "metadata": {},
   "outputs": [
    {
     "name": "stdout",
     "output_type": "stream",
     "text": [
      "Printing number 100 to 155\n",
      "100\n",
      "101\n",
      "102\n",
      "103\n",
      "104\n",
      "105\n",
      "106\n",
      "107\n",
      "108\n",
      "109\n",
      "110\n",
      "111\n",
      "112\n",
      "113\n",
      "114\n",
      "115\n",
      "116\n",
      "117\n",
      "118\n",
      "119\n",
      "120\n",
      "121\n",
      "122\n",
      "123\n",
      "124\n",
      "125\n",
      "126\n",
      "127\n",
      "128\n",
      "129\n",
      "130\n",
      "131\n",
      "132\n",
      "133\n",
      "134\n",
      "135\n",
      "136\n",
      "137\n",
      "138\n",
      "139\n",
      "140\n",
      "141\n",
      "142\n",
      "143\n",
      "144\n",
      "145\n",
      "146\n",
      "147\n",
      "148\n",
      "149\n",
      "150\n",
      "151\n",
      "152\n",
      "153\n",
      "154\n",
      "155\n"
     ]
    }
   ],
   "source": [
    "print(\"Printing number 100 to 155\")\n",
    "n = 100\n",
    "while n <= 155:\n",
    "    print(n)\n",
    "    n += 1"
   ]
  },
  {
   "cell_type": "markdown",
   "metadata": {},
   "source": [
    "### Task 4\n",
    "There are 3 height categories\n",
    "\n",
    "- 167 and below = Short\n",
    "- 168 to 182 = Average\n",
    "- 182 and above = Tall\n",
    "\n",
    "Write a program which gets the input from user and print, if the category of the person fits in"
   ]
  },
  {
   "cell_type": "code",
   "execution_count": 18,
   "metadata": {},
   "outputs": [
    {
     "name": "stdout",
     "output_type": "stream",
     "text": [
      "Enter the height: 173\n",
      "Average\n"
     ]
    }
   ],
   "source": [
    "height = int(input(\"Enter the height: \"))\n",
    "if height <= 167:\n",
    "    print(\"Short\")\n",
    "if height in range(168,182):\n",
    "    print(\"Average\")\n",
    "if height >= 182:\n",
    "    print(\"Tall\")"
   ]
  },
  {
   "cell_type": "markdown",
   "metadata": {},
   "source": [
    "### Task 5\n",
    "Refer task 3 and print even and odd number."
   ]
  },
  {
   "cell_type": "code",
   "execution_count": 19,
   "metadata": {},
   "outputs": [
    {
     "name": "stdout",
     "output_type": "stream",
     "text": [
      "100 is even\n",
      "101 is odd\n",
      "102 is even\n",
      "103 is odd\n",
      "104 is even\n",
      "105 is odd\n",
      "106 is even\n",
      "107 is odd\n",
      "108 is even\n",
      "109 is odd\n",
      "110 is even\n",
      "111 is odd\n",
      "112 is even\n",
      "113 is odd\n",
      "114 is even\n",
      "115 is odd\n",
      "116 is even\n",
      "117 is odd\n",
      "118 is even\n",
      "119 is odd\n",
      "120 is even\n",
      "121 is odd\n",
      "122 is even\n",
      "123 is odd\n",
      "124 is even\n",
      "125 is odd\n",
      "126 is even\n",
      "127 is odd\n",
      "128 is even\n",
      "129 is odd\n",
      "130 is even\n",
      "131 is odd\n",
      "132 is even\n",
      "133 is odd\n",
      "134 is even\n",
      "135 is odd\n",
      "136 is even\n",
      "137 is odd\n",
      "138 is even\n",
      "139 is odd\n",
      "140 is even\n",
      "141 is odd\n",
      "142 is even\n",
      "143 is odd\n",
      "144 is even\n",
      "145 is odd\n",
      "146 is even\n",
      "147 is odd\n",
      "148 is even\n",
      "149 is odd\n",
      "150 is even\n",
      "151 is odd\n",
      "152 is even\n",
      "153 is odd\n",
      "154 is even\n",
      "155 is odd\n",
      "156 is even\n",
      "157 is odd\n",
      "158 is even\n",
      "159 is odd\n",
      "160 is even\n",
      "161 is odd\n",
      "162 is even\n",
      "163 is odd\n",
      "164 is even\n",
      "165 is odd\n",
      "166 is even\n",
      "167 is odd\n",
      "168 is even\n",
      "169 is odd\n",
      "170 is even\n",
      "171 is odd\n",
      "172 is even\n",
      "173 is odd\n",
      "174 is even\n",
      "175 is odd\n",
      "176 is even\n",
      "177 is odd\n",
      "178 is even\n",
      "179 is odd\n",
      "180 is even\n",
      "181 is odd\n",
      "182 is even\n",
      "183 is odd\n",
      "184 is even\n",
      "185 is odd\n",
      "186 is even\n",
      "187 is odd\n",
      "188 is even\n",
      "189 is odd\n",
      "190 is even\n",
      "191 is odd\n",
      "192 is even\n",
      "193 is odd\n",
      "194 is even\n",
      "195 is odd\n",
      "196 is even\n",
      "197 is odd\n",
      "198 is even\n",
      "199 is odd\n",
      "200 is even\n"
     ]
    }
   ],
   "source": [
    "n = 100\n",
    "while n <= 200:\n",
    "    if n % 2 == 0:\n",
    "        print(n,\"is even\")\n",
    "    else:\n",
    "        print(n,\"is odd\")\n",
    "    n += 1"
   ]
  },
  {
   "cell_type": "markdown",
   "metadata": {},
   "source": [
    "### Task 6\n",
    "- From the given list, extract the \"Hex\" and print it"
   ]
  },
  {
   "cell_type": "code",
   "execution_count": 20,
   "metadata": {},
   "outputs": [
    {
     "name": "stdout",
     "output_type": "stream",
     "text": [
      "['Hex']\n"
     ]
    }
   ],
   "source": [
    "list2=[22,[4, [True, False], 6, 8], [888, 999,[111,222,[\"Hex\"]]] ]\n",
    "print(list2[2][2][2])"
   ]
  },
  {
   "cell_type": "markdown",
   "metadata": {},
   "source": [
    "### Task 7\n",
    "Take value from the user and Seprate them into Positive & negative number."
   ]
  },
  {
   "cell_type": "code",
   "execution_count": 21,
   "metadata": {},
   "outputs": [
    {
     "name": "stdout",
     "output_type": "stream",
     "text": [
      "Enter a number :-4\n",
      "-4  Is Negative number\n"
     ]
    }
   ],
   "source": [
    "n = int(input(\"Enter a number :\"))\n",
    "if n > 0:\n",
    "    print(n , \" Is Positive number\")\n",
    "else:\n",
    "    print(n , \" Is Negative number\")\n",
    "    "
   ]
  },
  {
   "cell_type": "markdown",
   "metadata": {},
   "source": [
    "### Task 8\n",
    "thistuple = (\"apple\", \"banana\", \"cherry\", \"orange\", \"kiwi\", \"melon\", \"mango\")<br>Print thistuple in reverse format."
   ]
  },
  {
   "cell_type": "code",
   "execution_count": 22,
   "metadata": {},
   "outputs": [
    {
     "name": "stdout",
     "output_type": "stream",
     "text": [
      "('mango', 'melon', 'kiwi', 'orange', 'cherry', 'banana', 'apple')\n"
     ]
    }
   ],
   "source": [
    "thistuple = (\"apple\", \"banana\", \"cherry\", \"orange\", \"kiwi\", \"melon\", \"mango\")\n",
    "print(thistuple[::-1])\n"
   ]
  },
  {
   "cell_type": "markdown",
   "metadata": {},
   "source": [
    "# Task 9\n",
    "Calculate mean, median, mode and standard deviation of given list.<br>\n",
    "A=[2,5,6,9,7,3]<br>B=[2,5,3,2,8,3,2,1,9,4,2,5,6]<br>C=[1,1.5,2,2.5,3,3.5,4,5,6,4.5,5]"
   ]
  },
  {
   "cell_type": "code",
   "execution_count": 23,
   "metadata": {},
   "outputs": [
    {
     "name": "stdout",
     "output_type": "stream",
     "text": [
      "Mean of list A:  5.333333333333333\n",
      "Mean of list B:  5.333333333333333\n",
      "Mean of list C:  5.333333333333333\n",
      "Mode of list A:  2\n",
      "Mode of list B:  2\n",
      "Mode of list C:  5\n",
      "Median of list A:  5.5\n",
      "Median of list B:  3\n",
      "Median of list C:  3.5\n",
      "Standard Deviation of list A:  2.3570226039551585\n",
      "Standard Deviation of list B:  2.385855756810896\n",
      "Standard Deviation of list C:  1.529327621932793\n"
     ]
    }
   ],
   "source": [
    "import statistics\n",
    "A=[2,5,6,9,7,3]\n",
    "B=[2,5,3,2,8,3,2,1,9,4,2,5,6]\n",
    "C=[1,1.5,2,2.5,3,3.5,4,5,6,4.5,5]\n",
    "\n",
    "print(\"Mean of list A: \",sum(A)/len(A))\n",
    "print(\"Mean of list B: \",sum(A)/len(A))\n",
    "print(\"Mean of list C: \",sum(A)/len(A))\n",
    "print(\"Mode of list A: \",statistics.mode(A))\n",
    "print(\"Mode of list B: \",statistics.mode(B))\n",
    "print(\"Mode of list C: \",statistics.mode(C))\n",
    "print(\"Median of list A: \",statistics.median(A))\n",
    "print(\"Median of list B: \",statistics.median(B))\n",
    "print(\"Median of list C: \",statistics.median(C))\n",
    "print(\"Standard Deviation of list A: \",statistics.pstdev(A))\n",
    "print(\"Standard Deviation of list B: \",statistics.pstdev(B))\n",
    "print(\"Standard Deviation of list C: \",statistics.pstdev(C))\n"
   ]
  },
  {
   "cell_type": "markdown",
   "metadata": {},
   "source": [
    "### Task 10:\n",
    "- Write a program to find compound interest\n",
    "- A = P(1 + R/100) t\n",
    "\n",
    "    Compound Interest = A – P\n",
    "    Where,\n",
    "    \n",
    "    A is amount\n",
    "    \n",
    "    P is principle amount\n",
    "    \n",
    "    R is the rate and\n",
    "    \n",
    "    T is the time span"
   ]
  },
  {
   "cell_type": "code",
   "execution_count": 24,
   "metadata": {},
   "outputs": [
    {
     "name": "stdout",
     "output_type": "stream",
     "text": [
      "Please Enter the Principle Amount: 1000\n",
      "Please Enter the Rate: 5\n",
      "Please Enter the Time Span: 2\n",
      "Compoun Interest is:  1102.5\n"
     ]
    }
   ],
   "source": [
    "p = int(input(\"Please Enter the Principle Amount: \"))\n",
    "r = int(input(\"Please Enter the Rate: \"))\n",
    "t = int(input(\"Please Enter the Time Span: \"))\n",
    "ci = p*(pow((1+r/100),t))\n",
    "print(\"Compoun Interest is: \",ci)\n"
   ]
  },
  {
   "cell_type": "markdown",
   "metadata": {},
   "source": [
    "### Task 11:\n",
    "Write a Python program to sum all the items in a list.\n",
    "[2,3,4,-4,5,6,7,12]\n"
   ]
  },
  {
   "cell_type": "code",
   "execution_count": 25,
   "metadata": {},
   "outputs": [
    {
     "name": "stdout",
     "output_type": "stream",
     "text": [
      "Sum of the list is: -4\n"
     ]
    }
   ],
   "source": [
    "list1 = [2,3,4,-4,5,6,7,12]\n",
    "summ = 0\n",
    "for i in list1:\n",
    "    summ = summ + i\n",
    "print(\"Sum of the list is:\",n)"
   ]
  },
  {
   "cell_type": "markdown",
   "metadata": {},
   "source": [
    "\n",
    "### Task 12\n",
    "\n",
    "- A company decided to give bonus of 5% to employee if his/her year of service is more than 5 years.\n",
    "    Ask user for their salary and year of service and print the net bonus amount.\n"
   ]
  },
  {
   "cell_type": "code",
   "execution_count": 26,
   "metadata": {},
   "outputs": [
    {
     "name": "stdout",
     "output_type": "stream",
     "text": [
      "Please Enter your Salary: 23000\n",
      "Please Enter your Year of Service: 6\n",
      "Your Net Bonus Amount is:  1150\n"
     ]
    }
   ],
   "source": [
    "salary = int(input(\"Please Enter your Salary: \"))\n",
    "year = int(input(\"Please Enter your Year of Service: \"))\n",
    "if year > 5:\n",
    "    print(\"Your Net Bonus Amount is: \",int((salary*5)/100))\n",
    "else:\n",
    "    print(\"Your Net Bonus Amount is: 0\")"
   ]
  },
  {
   "cell_type": "markdown",
   "metadata": {},
   "source": [
    "### Task 13:\n",
    "- Take values of length and breadth of a rectangle from user and check if it is square or not.\n",
    "- Take two int values from user and print greatest among them."
   ]
  },
  {
   "cell_type": "code",
   "execution_count": 27,
   "metadata": {},
   "outputs": [
    {
     "name": "stdout",
     "output_type": "stream",
     "text": [
      "Enter Length of the Rectangle: 5\n",
      "Enter Breadth of the Rectangle: 5\n",
      "The Rectangle is a Square\n"
     ]
    }
   ],
   "source": [
    "length = int(input(\"Enter Length of the Rectangle: \"))\n",
    "breadth = int(input(\"Enter Breadth of the Rectangle: \"))\n",
    "if length == breadth:\n",
    "    print(\"The Rectangle is a Square\")\n",
    "else:\n",
    "    print(\"The Rectangle is not a Square\")"
   ]
  },
  {
   "cell_type": "code",
   "execution_count": 28,
   "metadata": {},
   "outputs": [
    {
     "name": "stdout",
     "output_type": "stream",
     "text": [
      "Enter a Number: 65\n",
      "Enter another Number: 56\n",
      "65 is Greater\n"
     ]
    }
   ],
   "source": [
    "num1 = int(input(\"Enter a Number: \"))\n",
    "num2 = int(input(\"Enter another Number: \"))\n",
    "if num1 > num2:\n",
    "    print(num1,\"is Greater\")\n",
    "elif num2 > num1:\n",
    "    print(num2,\"is Greater\")\n",
    "else:\n",
    "    print(\"Both Numbers are equal\")"
   ]
  },
  {
   "cell_type": "markdown",
   "metadata": {},
   "source": [
    "### Task 14: \n",
    "\n",
    "- A student will not be allowed to sit in exam if his/her attendence is less than 75%.\n",
    "    Take following input from user\n",
    "    Number of classes held\n",
    "    Number of classes attended.\n",
    "    And print\n",
    "    percentage of class attended\n",
    "    Is student is allowed to sit in exam or not.\n",
    "\n",
    "- Modify the above question to allow student to sit if he/she has medical cause. Ask user if he/she has medical cause or not ( 'Y' or 'N' ) and print accordingly."
   ]
  },
  {
   "cell_type": "code",
   "execution_count": 30,
   "metadata": {},
   "outputs": [
    {
     "name": "stdout",
     "output_type": "stream",
     "text": [
      "Enter Total Number of Class: 26\n",
      "Enter Number of Class Attended: 14\n",
      "Attendance Percentage is:  53.84615384615385 %\n",
      "Student can not sit in exam as his Attendance is Low\n"
     ]
    }
   ],
   "source": [
    "classTotal = int(input(\"Enter Total Number of Class: \"))\n",
    "classAttended = int(input(\"Enter Number of Class Attended: \"))\n",
    "\n",
    "attendancePercentage = (classAttended / classTotal) * 100\n",
    "print('Attendance Percentage is: ',attendancePercentage,'%')\n",
    "if attendancePercentage < 75:\n",
    "    print(\"Student can not sit in exam as his Attendance is Low\")\n",
    "else:\n",
    "    print(\"Student can sit in the exam\")\n",
    "    "
   ]
  },
  {
   "cell_type": "code",
   "execution_count": 31,
   "metadata": {},
   "outputs": [
    {
     "name": "stdout",
     "output_type": "stream",
     "text": [
      "Enter Total Number of Class: 26\n",
      "Enter Number of Class Attended: 14\n",
      "Attendance Percentage is:  53.84615384615385 %\n",
      "Enter Y/N if student have any medical cause or not: Y\n",
      "Student can sit in the exam\n"
     ]
    }
   ],
   "source": [
    "classTotal = int(input(\"Enter Total Number of Class: \"))\n",
    "classAttended = int(input(\"Enter Number of Class Attended: \"))\n",
    "\n",
    "attendancePercentage = (classAttended / classTotal) * 100\n",
    "print('Attendance Percentage is: ',attendancePercentage,'%')\n",
    "if attendancePercentage < 75:\n",
    "    medicalCause = input(\"Enter Y/N if student have any medical cause or not: \")\n",
    "    if medicalCause == 'Y':\n",
    "        print(\"Student can sit in the exam\")\n",
    "    else:\n",
    "        print(\"Student can not sit in exam as his Attendance is Low\")\n",
    "else:\n",
    "    print(\"Student can sit in the exam\")      "
   ]
  },
  {
   "cell_type": "markdown",
   "metadata": {},
   "source": [
    "### Task 15:\n",
    "- Write a program to find prime factor of a number.\n",
    "If a factor of a number is prime number then it is its prime factor.\n",
    "- Write a program to print all prime number in between 1 to 100. "
   ]
  },
  {
   "cell_type": "code",
   "execution_count": 32,
   "metadata": {},
   "outputs": [
    {
     "name": "stdout",
     "output_type": "stream",
     "text": [
      "[1, 2, 4, 8, 16, 32]\n"
     ]
    }
   ],
   "source": [
    "x = 32\n",
    "factorlist = []\n",
    "for i in range(1,x+1):\n",
    "    if x % i == 0:\n",
    "        factorlist.append(i)\n",
    "        \n",
    "print(factorlist)"
   ]
  },
  {
   "cell_type": "markdown",
   "metadata": {},
   "source": [
    "### Task 16\n",
    "- Write a program to print Fibonacci series up to n terms\n",
    "    - *Hint:* 0, 1, 1, 2, 3, 5, 8, 13, 21... "
   ]
  },
  {
   "cell_type": "code",
   "execution_count": 33,
   "metadata": {},
   "outputs": [
    {
     "name": "stdout",
     "output_type": "stream",
     "text": [
      "Enter a number: 5\n",
      "0\n",
      "1\n",
      "1\n",
      "2\n",
      "3\n"
     ]
    }
   ],
   "source": [
    "       \n",
    "n1 = 0\n",
    "n2 = 1\n",
    "num = int(input(\"Enter a number: \"))\n",
    "for i in range(0,num):\n",
    "    if i <= 1:\n",
    "        print(i)\n",
    "    else:\n",
    "        res = n1 + n2\n",
    "        n1 = n2\n",
    "        n2 = res\n",
    "        print(res)\n",
    "    \n",
    "    "
   ]
  },
  {
   "cell_type": "markdown",
   "metadata": {},
   "source": [
    "### Task 17:\n",
    "Print the following patterns using loop :\n",
    "\n",
    "    a.\n",
    "        *\n",
    "        **\n",
    "        ***\n",
    "        ****\n",
    "    b.\n",
    "          *  \n",
    "         *** \n",
    "        *****\n",
    "         *** \n",
    "          *  \n",
    "    "
   ]
  },
  {
   "cell_type": "code",
   "execution_count": 34,
   "metadata": {},
   "outputs": [
    {
     "name": "stdout",
     "output_type": "stream",
     "text": [
      "*\n",
      "**\n",
      "***\n",
      "****\n"
     ]
    }
   ],
   "source": [
    "for i in range(1,5):\n",
    "    print(\"*\"*i)"
   ]
  },
  {
   "cell_type": "code",
   "execution_count": 35,
   "metadata": {},
   "outputs": [
    {
     "name": "stdout",
     "output_type": "stream",
     "text": [
      "  *\n",
      " ***\n",
      "*****\n",
      " ***\n",
      "  *\n"
     ]
    }
   ],
   "source": [
    "line = 3\n",
    "for i in range(1,line+1):\n",
    "    k = 0\n",
    "    for space in range(0,line-i):\n",
    "        print(\" \",end=\"\")\n",
    "    while k != (2*i - 1):\n",
    "        print(\"*\",end=\"\")\n",
    "        k += 1\n",
    "    print()\n",
    "for i in range(line-1,0,-1):\n",
    "    k = 0\n",
    "    for space in range(0,line-i):\n",
    "        print(\" \",end=\"\")\n",
    "    while k != (2*i - 1):\n",
    "        print(\"*\",end=\"\")\n",
    "        k += 1\n",
    "    print()"
   ]
  },
  {
   "cell_type": "markdown",
   "metadata": {},
   "source": [
    "### Task 18:\n",
    "Print the following patterns using loop :\n",
    "\n",
    "\n",
    "    a.\n",
    "        1010101\n",
    "         10101 \n",
    "          101  \n",
    "           1   \n",
    "    b.\n",
    "         1\n",
    "         22\n",
    "         333\n",
    "         4444\n",
    "         "
   ]
  },
  {
   "cell_type": "code",
   "execution_count": 38,
   "metadata": {},
   "outputs": [
    {
     "name": "stdout",
     "output_type": "stream",
     "text": [
      "1010101\n",
      " 10101\n",
      "  101\n",
      "   1\n"
     ]
    }
   ],
   "source": [
    "row = 4\n",
    "for i in range(row,0,-1):\n",
    "    for j in range(0,row-i):\n",
    "        print(\" \",end = \"\")\n",
    "    for k in range(1,2*i):\n",
    "        print(k%2, end=\"\")\n",
    "    print()"
   ]
  },
  {
   "cell_type": "code",
   "execution_count": 37,
   "metadata": {},
   "outputs": [
    {
     "name": "stdout",
     "output_type": "stream",
     "text": [
      "1\n",
      "22\n",
      "333\n",
      "4444\n"
     ]
    }
   ],
   "source": [
    "for i in range(1,5):\n",
    "    for j in range(1,i+1):\n",
    "        if i == j:\n",
    "            print(\"{}\".format(i)*j)"
   ]
  }
 ],
 "metadata": {
  "kernelspec": {
   "display_name": "Python 3 (ipykernel)",
   "language": "python",
   "name": "python3"
  },
  "language_info": {
   "codemirror_mode": {
    "name": "ipython",
    "version": 3
   },
   "file_extension": ".py",
   "mimetype": "text/x-python",
   "name": "python",
   "nbconvert_exporter": "python",
   "pygments_lexer": "ipython3",
   "version": "3.8.5"
  }
 },
 "nbformat": 4,
 "nbformat_minor": 4
}
